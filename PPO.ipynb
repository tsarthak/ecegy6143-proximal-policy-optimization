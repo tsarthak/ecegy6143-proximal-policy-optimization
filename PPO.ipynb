{
  "nbformat": 4,
  "nbformat_minor": 0,
  "metadata": {
    "colab": {
      "provenance": [],
      "authorship_tag": "ABX9TyOokJp+/oqBu8kxDASkmey/",
      "include_colab_link": true
    },
    "kernelspec": {
      "name": "python3",
      "display_name": "Python 3"
    },
    "language_info": {
      "name": "python"
    }
  },
  "cells": [
    {
      "cell_type": "markdown",
      "metadata": {
        "id": "view-in-github",
        "colab_type": "text"
      },
      "source": [
        "<a href=\"https://colab.research.google.com/github/tsarthak/ecegy6143-proximal-policy-optimization/blob/main/PPO.ipynb\" target=\"_parent\"><img src=\"https://colab.research.google.com/assets/colab-badge.svg\" alt=\"Open In Colab\"/></a>"
      ]
    },
    {
      "cell_type": "code",
      "execution_count": null,
      "metadata": {
        "id": "RrdHVb5pThxC"
      },
      "outputs": [],
      "source": []
    },
    {
      "cell_type": "markdown",
      "source": [
        "# Proximal Policy Optimization\n",
        "\n",
        "Links\n",
        "- Introduction to RL by David Silver (DeepMIND) at UCL https://www.youtube.com/playlist?list=PLqYmG7hTraZDM-OYHWgPebj2MfCFzFObQ\n",
        "- https://jonathan-hui.medium.com/rl-proximal-policy-optimization-ppo-explained-77f014ec3f12\n",
        "- https://www.brthor.com/blog/ai/reinforcement-learning/can-reinforcement-learning-be-used-for-classification/\n",
        "- https://arshren.medium.com/supervised-unsupervised-and-reinforcement-learning-245b59709f68\n",
        "- https://spinningup.openai.com/en/latest/spinningup/rl_intro.html\n"
      ],
      "metadata": {
        "id": "QGiXOCdDTjwK"
      }
    }
  ]
}